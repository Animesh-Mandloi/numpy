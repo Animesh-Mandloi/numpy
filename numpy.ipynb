{
 "cells": [
  {
   "cell_type": "code",
   "execution_count": null,
   "id": "3e3b0dc4-ab0d-41f9-918e-9e71d63429ee",
   "metadata": {},
   "outputs": [],
   "source": [
    "# Create a NumPy array 'arr' of integers from 0 to 5 and print its data type\n",
    "\n",
    "import numpy as np\n",
    "\n",
    "\n",
    "arr = np.arange(6)\n",
    "\n",
    "\n",
    "print(\"Data type of arr:\", arr.dtype)\n"
   ]
  },
  {
   "cell_type": "code",
   "execution_count": null,
   "id": "125e6c9d-6ff9-4ce7-baf2-15a30e847564",
   "metadata": {},
   "outputs": [],
   "source": [
    "#Check if 'arr' is of data type float64.\n",
    "\n",
    "\n",
    "is_float64 = arr.dtype == np.float64\n",
    "print(\"Is arr of type float64?\", is_float64)\n",
    "\n"
   ]
  },
  {
   "cell_type": "code",
   "execution_count": null,
   "id": "431ab665-cb3a-4eba-a679-44948e9549a6",
   "metadata": {},
   "outputs": [],
   "source": [
    "# Create a NumPy array 'arr' with a data type of complex128 containing three complex numbers.\n",
    "\n",
    "\n",
    "arr = np.array([1+2j, 3+4j, 5+6j], dtype=np.complex128)\n",
    "\n",
    "print(\"Array with complex128 data type:\", arr)\n"
   ]
  },
  {
   "cell_type": "code",
   "execution_count": null,
   "id": "0cbbce44-9721-49fb-a558-a03735485fce",
   "metadata": {},
   "outputs": [],
   "source": [
    "#Convert an existing NumPy array 'arr' of integers to float32 data type.\n",
    "\n",
    "\n",
    "arr = np.array([1, 2, 3, 4, 5])\n",
    "\n",
    "\n",
    "arr_float32 = arr.astype(np.float32)\n",
    "\n",
    "\n",
    "print(\"Array converted to float32:\", arr_float32)\n"
   ]
  },
  {
   "cell_type": "code",
   "execution_count": null,
   "id": "36ba7a20-9f09-4d2f-817d-07d982152ee1",
   "metadata": {},
   "outputs": [],
   "source": [
    "#5. Convert a NumPy array 'arr' of float64 to float32.\n",
    "\n",
    "\n",
    "arr = np.array([1.1, 2.2, 3.3], dtype=np.float64)\n",
    "\n",
    "\n",
    "arr_float32 = arr.astype(np.float32)\n",
    "\n",
    "print(\"Array converted to float32:\", arr_float32)\n"
   ]
  },
  {
   "cell_type": "code",
   "execution_count": null,
   "id": "62b03455-26ac-4f1b-9209-3ad82dbf6fc8",
   "metadata": {},
   "outputs": [],
   "source": [
    "#6. Function array_attributes to return the shape, size, and data type.\n",
    "\n",
    "def array_attributes(arr):\n",
    "    return arr.shape, arr.size, arr.dtype\n",
    "\n",
    "\n",
    "attributes = array_attributes(arr)\n",
    "print(\"Array attributes:\", attributes)\n"
   ]
  },
  {
   "cell_type": "code",
   "execution_count": null,
   "id": "4ae01309-de30-4a5c-9c62-c262e5668c94",
   "metadata": {},
   "outputs": [],
   "source": [
    "#7. Function array_dimension to return the dimensionality of a NumPy array.\n",
    "def array_dimension(arr):\n",
    "    return arr.ndim\n",
    "\n",
    "dimension = array_dimension(arr)\n",
    "print(\"Array dimension:\", dimension)\n"
   ]
  },
  {
   "cell_type": "code",
   "execution_count": null,
   "id": "d520870e-30ec-450a-86b3-362c2ec54631",
   "metadata": {},
   "outputs": [],
   "source": [
    "#8Function item_size_info to return the item size and total size in bytes\n",
    "def item_size_info(arr):\n",
    "    return arr.itemsize, arr.nbytes\n",
    "\n",
    "\n",
    "item_size, total_size = item_size_info(arr)\n",
    "print(\"Item size (bytes):\", item_size)\n",
    "print(\"Total size (bytes):\", total_size)\n"
   ]
  },
  {
   "cell_type": "code",
   "execution_count": null,
   "id": "92f19b61-c7f6-4f22-a468-98674e2ac2b7",
   "metadata": {},
   "outputs": [],
   "source": [
    "#9. Function array_strides to return the strides of a NumPy array.\n",
    "def array_strides(arr):\n",
    "    return arr.strides\n",
    "\n",
    "\n",
    "strides = array_strides(arr)\n",
    "print(\"Array strides:\", strides)\n"
   ]
  },
  {
   "cell_type": "code",
   "execution_count": null,
   "id": "5cd6c7ff-407d-410c-8196-ee2c4bb4a2e5",
   "metadata": {},
   "outputs": [],
   "source": [
    "#10Function shape_stride_relationship to return the shape and strides of a NumPy array.\n",
    "def shape_stride_relationship(arr):\n",
    "    return arr.shape, arr.strides\n",
    "\n",
    "\n",
    "shape, strides = shape_stride_relationship(arr)\n",
    "print(\"Shape:\", shape)\n",
    "print(\"Strides:\", strides)\n"
   ]
  },
  {
   "cell_type": "code",
   "execution_count": null,
   "id": "f80171dc-5b48-449e-8e5f-ca2cf018c62c",
   "metadata": {},
   "outputs": [],
   "source": [
    "#11. Function create_zeros_array to return a NumPy array of zeros with n elements.\n",
    "def create_zeros_array(n):\n",
    "    return np.zeros(n)\n",
    "\n",
    "n\n",
    "zeros_array = create_zeros_array(5)\n",
    "print(\"Zeros array:\", zeros_array)\n"
   ]
  },
  {
   "cell_type": "code",
   "execution_count": null,
   "id": "ef613dd9-8202-428e-ad66-576f4d27881c",
   "metadata": {},
   "outputs": [],
   "source": [
    "#12. Function create_ones_matrix to generate a 2D array filled with ones of size rows x cols.\n",
    "def create_ones_matrix(rows, cols):\n",
    "    return np.ones((rows, cols))\n",
    "\n",
    "\n",
    "ones_matrix = create_ones_matrix(3, 4)\n",
    "print(\"Ones matrix:\\n\", ones_matrix)\n"
   ]
  },
  {
   "cell_type": "code",
   "execution_count": null,
   "id": "f5ab23d3-d0b4-4e5a-917c-66a260df3c39",
   "metadata": {},
   "outputs": [],
   "source": [
    "#13. Function generate_range_array to create an array with a range from start to stop with step.\n",
    "def generate_range_array(start, stop, step):\n",
    "    return np.arange(start, stop, step)\n",
    "\n",
    "range_array = generate_range_array(0, 10, 2)\n",
    "print(\"Range array:\", range_array)\n"
   ]
  },
  {
   "cell_type": "code",
   "execution_count": null,
   "id": "3ab2541a-75cd-4b6e-b118-ddfcfe02f70f",
   "metadata": {},
   "outputs": [],
   "source": [
    "#14. Function generate_linear_space to generate equally spaced values between start and stop.\n",
    "def generate_linear_space(start, stop, num):\n",
    "    return np.linspace(start, stop, num)\n",
    "\n",
    "\n",
    "linear_space_array = generate_linear_space(0, 1, 10)\n",
    "print(\"Linear space array:\", linear_space_array)\n"
   ]
  },
  {
   "cell_type": "code",
   "execution_count": null,
   "id": "8f6b9a59-60db-47bb-a13e-da8242c3f788",
   "metadata": {},
   "outputs": [],
   "source": [
    "#15. Function create_identity_matrix to generate a square identity matrix of size n x n.\n",
    "def create_identity_matrix(n):\n",
    "    return np.eye(n)\n",
    "\n",
    "\n",
    "identity_matrix = create_identity_matrix(4)\n",
    "print(\"Identity matrix:\\n\", identity_matrix)\n"
   ]
  },
  {
   "cell_type": "code",
   "execution_count": null,
   "id": "fa4339b1-4131-4efc-bab9-921841edd58a",
   "metadata": {},
   "outputs": [],
   "source": [
    "#16. Function to convert a Python list to a NumPy array.\n",
    "def list_to_array(lst):\n",
    "    return np.array(lst)\n",
    "\n",
    "\n",
    "python_list = [1, 2, 3, 4, 5]\n",
    "np_array = list_to_array(python_list)\n",
    "print(\"NumPy array from list:\", np_array)\n"
   ]
  },
  {
   "cell_type": "code",
   "execution_count": null,
   "id": "8f46458c-b396-4b28-80c3-6283c324c338",
   "metadata": {},
   "outputs": [],
   "source": [
    "#17. Use numpy.view to create a new array object with the same data.\n",
    "\n",
    "arr = np.array([1, 2, 3, 4, 5])\n",
    "\n",
    "arr_view = arr.view()\n",
    "\n",
    "print(\"Original array:\", arr)\n",
    "print(\"Array view:\", arr_view)\n"
   ]
  },
  {
   "cell_type": "code",
   "execution_count": null,
   "id": "21c85e9c-2e80-4854-8e45-a5788d3829a4",
   "metadata": {},
   "outputs": [],
   "source": [
    "#18. Function to concatenate two NumPy arrays along a specified axis.\n",
    "def concatenate_arrays(arr1, arr2, axis=0):\n",
    "    return np.concatenate((arr1, arr2), axis=axis)\n",
    "\n",
    "\n",
    "arr1 = np.array([[1, 2], [3, 4]])\n",
    "arr2 = np.array([[5, 6], [7, 8]])\n",
    "concatenated = concatenate_arrays(arr1, arr2, axis=0)\n",
    "print(\"Concatenated array:\\n\", concatenated)\n"
   ]
  },
  {
   "cell_type": "code",
   "execution_count": null,
   "id": "81cc21c9-68a9-44cd-a1f9-2cf19ca9eacf",
   "metadata": {},
   "outputs": [],
   "source": [
    "#19. Concatenate two arrays horizontally using numpy.concatenate.\n",
    "arr1 = np.array([[1, 2], [3, 4]])\n",
    "arr2 = np.array([[5, 6]]\n",
    "concatenated = np.concatenate((arr1, arr2.T), axis=1)\n",
    "print(\"Horizontally concatenated array:\\n\", concatenated)"
   ]
  },
  {
   "cell_type": "code",
   "execution_count": null,
   "id": "98168468-da28-4364-a20d-7ee7ca667318",
   "metadata": {},
   "outputs": [],
   "source": [
    "#20. Function to vertically stack multiple NumPy arrays given as a list.\n",
    "\n",
    "def vertical_stack(arrays):\n",
    "    return np.vstack(arrays)\n",
    "\n",
    "\n",
    "arr1 = np.array([1, 2, 3])\n",
    "arr2 = np.array([4, 5, 6])\n",
    "arr3 = np.array([7, 8, 9])\n",
    "stacked = vertical_stack([arr1, arr2, arr3])\n",
    "print(\"Vertically stacked array:\\n\", stacked)"
   ]
  },
  {
   "cell_type": "code",
   "execution_count": null,
   "id": "51c1fb21-75a1-44a4-8d7b-2a6f09eb2b70",
   "metadata": {},
   "outputs": [],
   "source": [
    "#21. Function to create an array of integers within a specified range with a given step size.\n",
    "\n",
    "def range_array(start, stop, step):\n",
    "    return np.arange(start, stop + 1, step)\n",
    "\n",
    "\n",
    "range_array_result = range_array(1, 10, 2)\n",
    "print(\"Range array:\", range_array_result)"
   ]
  },
  {
   "cell_type": "code",
   "execution_count": null,
   "id": "d33bbc65-497f-4216-8890-1600ca58788b",
   "metadata": {},
   "outputs": [],
   "source": [
    "#22. Function to generate an array of 10 equally spaced values between 0 and 1.\n",
    "\n",
    "def equally_spaced_values(start, stop, num):\n",
    "    return np.linspace(start, stop, num)\n",
    "\n",
    "\n",
    "values = equally_spaced_values(0, 1, 10)\n",
    "print(\"Equally spaced values:\", values)"
   ]
  },
  {
   "cell_type": "code",
   "execution_count": null,
   "id": "9f322c8d-f6fc-464c-9ef3-6b56238f4ca8",
   "metadata": {},
   "outputs": [],
   "source": [
    "#23. Function to create an array of 5 logarithmically spaced values between 1 and 1000.\n",
    "\n",
    "def log_spaced_values(start, stop, num):\n",
    "    return np.logspace(np.log10(start), np.log10(stop), num)\n",
    "\n",
    "\n",
    "log_values = log_spaced_values(1, 1000, 5)\n",
    "print(\"Logarithmically spaced values:\", log_values)"
   ]
  },
  {
   "cell_type": "code",
   "execution_count": null,
   "id": "412b16a0-410c-43c3-8087-b8014d26b5ad",
   "metadata": {},
   "outputs": [],
   "source": [
    "#24. Create a Pandas DataFrame using a NumPy array of random integers.\n",
    "\n",
    "import pandas as pd\n",
    "data = np.random.randint(1, 101, size=(5, 3))\n",
    "df = pd.DataFrame(data, columns=['A', 'B', 'C'])\n",
    "print(\"DataFrame:\\n\", df)"
   ]
  },
  {
   "cell_type": "code",
   "execution_count": null,
   "id": "3ea2170b-b48d-4577-b2e1-eb62153760a3",
   "metadata": {},
   "outputs": [],
   "source": [
    "#25. Replace negative values in a specific column of a Pandas DataFrame with zeros.\n",
    "\n",
    "def replace_negatives(df, column_name):\n",
    "    df[column_name] = np.where(df[column_name] < 0, 0, df[column_name])\n",
    "    return df\n",
    "df = pd.DataFrame({\n",
    "    'A': [1, -2, 3, -4],\n",
    "    'B': [-1, -2, 3, 4]\n",
    "})\n",
    "\n",
    "df = replace_negatives(df, 'A')\n",
    "print(\"DataFrame after replacing negatives in column 'A':\\n\", df)"
   ]
  },
  {
   "cell_type": "code",
   "execution_count": null,
   "id": "efc5d7e1-aff0-4aa4-9a84-ac97c9c2db24",
   "metadata": {},
   "outputs": [],
   "source": [
    "#26. Access the 3rd element from a given NumPy array.\n",
    "arr = np.array([10, 20, 30, 40, 50])\n",
    "third_element = arr[2]\n",
    "print(\"3rd element:\", third_element)"
   ]
  },
  {
   "cell_type": "code",
   "execution_count": null,
   "id": "b9fd1bdb-a17d-46f4-abf9-9068e21e7781",
   "metadata": {},
   "outputs": [],
   "source": [
    "#27. Retrieve the element at index (1, 2) from the 2D NumPy array.\n",
    "\n",
    "arr_2d = np.array([[1, 2, 3], [4, 5, 6], [7, 8, 9]])\n",
    "\n",
    "element = arr_2d[1, 2]\n",
    "print(\"Element at index (1, 2):\", element)"
   ]
  },
  {
   "cell_type": "code",
   "execution_count": null,
   "id": "07706abd-605b-4ef6-9b61-178da46d5b92",
   "metadata": {},
   "outputs": [],
   "source": [
    "#28. Using boolean indexing, extract elements greater than 5 from the given NumPy array.\n",
    "\n",
    "arr = np.array([1, 6, 3, 7, 5, 9])\n",
    "greater_than_5 = arr[arr > 5]\n",
    "print(\"Elements greater than 5:\", greater_than_5)"
   ]
  },
  {
   "cell_type": "code",
   "execution_count": null,
   "id": "c8ed4b2f-a753-4eaf-af82-8a7368d26a00",
   "metadata": {},
   "outputs": [],
   "source": [
    "#29. Perform basic slicing to extract elements from index 2 to 5 (inclusive) from the given NumPy array.\n",
    "\n",
    "arr = np.array([1, 2, 3, 4, 5, 6, 7, 8, 9])\n",
    "sliced_arr = arr[2:6]\n",
    "print(\"Sliced array:\", sliced_arr)"
   ]
  },
  {
   "cell_type": "code",
   "execution_count": null,
   "id": "c3548ae1-1fd9-4347-9616-c5dbf7c7653f",
   "metadata": {},
   "outputs": [],
   "source": [
    "#30. Slice the 2D NumPy array to extract the sub-array [[2, 3], [5, 6]].\n",
    "\n",
    "arr_2d = np.array([[1, 2, 3], [4, 5, 6], [7, 8, 9]])\n",
    "\n",
    "sub_array = arr_2d[0:2, 1:3]\n",
    "print(\"Sub-array:\\n\", sub_array)"
   ]
  }
 ],
 "metadata": {
  "kernelspec": {
   "display_name": "Python 3 (ipykernel)",
   "language": "python",
   "name": "python3"
  },
  "language_info": {
   "codemirror_mode": {
    "name": "ipython",
    "version": 3
   },
   "file_extension": ".py",
   "mimetype": "text/x-python",
   "name": "python",
   "nbconvert_exporter": "python",
   "pygments_lexer": "ipython3",
   "version": "3.12.2"
  }
 },
 "nbformat": 4,
 "nbformat_minor": 5
}
